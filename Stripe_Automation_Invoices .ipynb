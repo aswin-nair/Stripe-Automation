{
 "cells": [
  {
   "cell_type": "code",
   "execution_count": null,
   "metadata": {},
   "outputs": [],
   "source": [
    "import stripe\n",
    "import pandas as pd\n",
    "from pandas import json_normalize\n",
    "import json\n",
    "import gspread as gs"
   ]
  },
  {
   "cell_type": "code",
   "execution_count": null,
   "metadata": {},
   "outputs": [],
   "source": [
    "stripe.api_key = \"your_stripe_api_key\""
   ]
  },
  {
   "cell_type": "code",
   "execution_count": null,
   "metadata": {},
   "outputs": [],
   "source": [
    "data_inv =stripe.Invoice.list()\n",
    "customer_inv = []\n",
    "for i in data_inv.auto_paging_iter():\n",
    "    customer_inv.append(i)\n",
    "df_inv = pd.json_normalize(customer_inv)\n"
   ]
  },
  {
   "cell_type": "code",
   "execution_count": null,
   "metadata": {},
   "outputs": [],
   "source": [
    "df_inv.count()"
   ]
  },
  {
   "cell_type": "code",
   "execution_count": null,
   "metadata": {},
   "outputs": [],
   "source": [
    "df_inv.to_excel(r\"C:\\Users\\aswin\\OneDrive\\Desktop\\Data Analytics\\Stripe Automation\\stripe_inv.xlsx\")"
   ]
  },
  {
   "cell_type": "code",
   "execution_count": null,
   "metadata": {},
   "outputs": [],
   "source": [
    "# df_nested_list = pd.json_normalize(data, record_path =['data'])\n",
    "# df_nested_list.head()"
   ]
  },
  {
   "cell_type": "code",
   "execution_count": null,
   "metadata": {},
   "outputs": [],
   "source": [
    "df = pd.read_excel('stripe_inv.xlsx')"
   ]
  },
  {
   "cell_type": "code",
   "execution_count": null,
   "metadata": {},
   "outputs": [],
   "source": [
    "df.value_counts"
   ]
  },
  {
   "cell_type": "markdown",
   "metadata": {},
   "source": [
    "### Accessing the sheets"
   ]
  },
  {
   "cell_type": "code",
   "execution_count": null,
   "metadata": {},
   "outputs": [],
   "source": [
    "import gspread\n",
    "from gspread_dataframe import set_with_dataframe\n",
    "from google.oauth2.service_account import Credentials\n",
    "from pydrive.auth import GoogleAuth\n",
    "from pydrive.drive import GoogleDrive\n",
    "scopes = ['https://www.googleapis.com/auth/spreadsheets',\n",
    "          'https://www.googleapis.com/auth/drive']\n",
    "\n",
    "credentials = Credentials.from_service_account_file('your sheets key', scopes=scopes)\n",
    "\n",
    "gc = gspread.authorize(credentials)\n",
    "\n",
    "gauth = GoogleAuth()\n",
    "drive = GoogleDrive(gauth)\n",
    "\n",
    "# open a google sheet\n",
    "gs = gc.open_by_key(\"sheet_id\")\n",
    "# select a work sheet from its name\n",
    "worksheet1 = gs.worksheet('sheet name')"
   ]
  },
  {
   "cell_type": "code",
   "execution_count": null,
   "metadata": {},
   "outputs": [],
   "source": [
    "data = df[['id','account_country','account_name','status','customer_email','customer_name','created','currency','period_end','period_start','subscription','subtotal','subtotal_excluding_tax','tax','total','total_excluding_tax']]\n",
    "data['created'] = pd.to_datetime(data['created'], unit='s')\n",
    "data['period_start'] = pd.to_datetime(data['period_start'], unit='s')\n",
    "data['period_end'] = pd.to_datetime(data['period_end'], unit='s')\n",
    "data.head()"
   ]
  },
  {
   "cell_type": "markdown",
   "metadata": {},
   "source": [
    "### Appending to Sheets"
   ]
  },
  {
   "cell_type": "code",
   "execution_count": null,
   "metadata": {},
   "outputs": [],
   "source": [
    "import pygsheets\n",
    "gc = pygsheets.authorize(service_file='gsheets-365812-473a5f2b4016.json')\n",
    "sh = gc.open_by_key(\"1lAYeI8Ed8P_yKZ4s1gkxgZxxJG4mtZeAgkY2dohJ7NE\")\n",
    "wks_write = sh.worksheet_by_title('Sheet1')\n",
    "wks_write.clear('Q1',None,'*')\n",
    "wks_write.set_dataframe(data, (1,1), encoding='utf-8', fit=True)\n",
    "wks_write.frozen_rows = 1"
   ]
  },
  {
   "cell_type": "code",
   "execution_count": null,
   "metadata": {},
   "outputs": [],
   "source": []
  }
 ],
 "metadata": {
  "kernelspec": {
   "display_name": "Python 3 (ipykernel)",
   "language": "python",
   "name": "python3"
  },
  "language_info": {
   "codemirror_mode": {
    "name": "ipython",
    "version": 3
   },
   "file_extension": ".py",
   "mimetype": "text/x-python",
   "name": "python",
   "nbconvert_exporter": "python",
   "pygments_lexer": "ipython3",
   "version": "3.9.0"
  },
  "vscode": {
   "interpreter": {
    "hash": "d41b6f51a8c569de6f9455661b91f092953b4248a6318b45db9119879979de9a"
   }
  }
 },
 "nbformat": 4,
 "nbformat_minor": 2
}
